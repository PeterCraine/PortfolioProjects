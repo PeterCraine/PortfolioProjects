{
 "cells": [
  {
   "cell_type": "code",
   "execution_count": null,
   "id": "4045b843",
   "metadata": {},
   "outputs": [],
   "source": [
    "import pandas as pd"
   ]
  },
  {
   "cell_type": "code",
   "execution_count": null,
   "id": "d9261291",
   "metadata": {},
   "outputs": [],
   "source": [
    "# read in the csv file as a pandas dataframe\n",
    "bikes = pd.read_csv(r\"Insert File Path Here\")\n",
    "bikes"
   ]
  },
  {
   "cell_type": "code",
   "execution_count": null,
   "id": "e75b3e3c",
   "metadata": {},
   "outputs": [],
   "source": [
    "# explore the data \n",
    "bikes.info()"
   ]
  },
  {
   "cell_type": "code",
   "execution_count": null,
   "id": "c661815a",
   "metadata": {},
   "outputs": [],
   "source": [
    "# telling me how many rows and then columns \n",
    "bikes.shape"
   ]
  },
  {
   "cell_type": "code",
   "execution_count": null,
   "id": "f0075e7d",
   "metadata": {},
   "outputs": [],
   "source": [
    "bikes"
   ]
  },
  {
   "cell_type": "code",
   "execution_count": null,
   "id": "f752a6ec",
   "metadata": {},
   "outputs": [],
   "source": [
    "# count the unique values in the weather _code column\n",
    "bikes.weather_code.value_counts()"
   ]
  },
  {
   "cell_type": "code",
   "execution_count": null,
   "id": "a09fe0d6",
   "metadata": {},
   "outputs": [],
   "source": [
    "# count the unique values in the season column \n",
    "bikes.season.value_counts()"
   ]
  },
  {
   "cell_type": "code",
   "execution_count": null,
   "id": "43262229",
   "metadata": {},
   "outputs": [],
   "source": [
    "# specifying the column names that I want to use\n",
    "new_cols_dict ={'timestamp':'time', \n",
    "                'cnt':'count',\n",
    "                't1':'temp_real_C',\n",
    "                't2':'temp_feels_like_C',\n",
    "                'hum':'humidity_percent',\n",
    "                'wind_speed':'wind_speed_kph',\n",
    "                'weather_code':'weather',\n",
    "                'is_holiday':'is_holiday',\n",
    "                'is_weekend':'is_weekend',\n",
    "                'season':'season'}\n",
    "                \n",
    "\n",
    "#Remaining the columns to the specificed column names \n",
    "bikes.rename(new_cols_dict, axis=1, inplace=True)"
   ]
  },
  {
   "cell_type": "code",
   "execution_count": null,
   "id": "4d52ab1e",
   "metadata": {},
   "outputs": [],
   "source": [
    "bikes"
   ]
  },
  {
   "cell_type": "code",
   "execution_count": null,
   "id": "fafd951a",
   "metadata": {},
   "outputs": [],
   "source": [
    "# changing the humidity values to percentage (i.e. a value between 0 and 1)\n",
    "bikes.humidity_percent = bikes.humidity_percent/100"
   ]
  },
  {
   "cell_type": "code",
   "execution_count": null,
   "id": "fe9f9af2",
   "metadata": {},
   "outputs": [],
   "source": [
    "# creating a season disctionary so that we can map the integers 0-3 to the actual written values \n",
    "#creating a weather dictionary so that we can map the integers to the actual written values\n",
    "season_dict = {'0':'spring', '1':'summer', '2':'autumn', '3':'winter'}\n",
    "\n",
    "weather_dict = {\n",
    "    '1':'Clear',\n",
    "    '2':'Scattered clouds',\n",
    "    '3':'Broken clouds',\n",
    "    '4':'Cloudy',\n",
    "    '7':'Rain',\n",
    "    '10':'Rain with thunderstorms',\n",
    "    '26':'Snowfall'}\n",
    "\n",
    "#Changing the seasons column data type to string\n",
    "bikes.season = bikes.season.astype('str')\n",
    "#mapping the values 0-3 to the actual written seasons\n",
    "bikes.season = bikes.season.map(season_dict)\n",
    "\n",
    "#changing the weather column data type to string\n",
    "bikes.weather = bikes.weather.astype('str')\n",
    "#mapping the values to the actual written weathers\n",
    "bikes.weather = bikes.weather.map(weather_dict)"
   ]
  },
  {
   "cell_type": "code",
   "execution_count": null,
   "id": "52691533",
   "metadata": {},
   "outputs": [],
   "source": [
    "# checking out dataframe to see if the mappings have worked\n",
    "bikes.head()"
   ]
  },
  {
   "cell_type": "code",
   "execution_count": null,
   "id": "99136f73",
   "metadata": {},
   "outputs": [],
   "source": [
    "# write the final dataframe to an excel file that will use in Tableau Visualisations. \n",
    "bikes.to_excel('london_bikes_final_Nov_2023.xlsx',sheet_name='Data')"
   ]
  }
 ],
 "metadata": {
  "kernelspec": {
   "display_name": "Python 3 (ipykernel)",
   "language": "python",
   "name": "python3"
  },
  "language_info": {
   "codemirror_mode": {
    "name": "ipython",
    "version": 3
   },
   "file_extension": ".py",
   "mimetype": "text/x-python",
   "name": "python",
   "nbconvert_exporter": "python",
   "pygments_lexer": "ipython3",
   "version": "3.11.5"
  }
 },
 "nbformat": 4,
 "nbformat_minor": 5
}
